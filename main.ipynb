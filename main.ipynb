{
 "cells": [
  {
   "cell_type": "markdown",
   "metadata": {},
   "source": [
    "# Low Rank Factorization"
   ]
  },
  {
   "cell_type": "markdown",
   "metadata": {},
   "source": [
    "## Gradient Check\n",
    "Let's confirm that gradients are computed correctly first."
   ]
  },
  {
   "cell_type": "code",
   "execution_count": 1,
   "metadata": {},
   "outputs": [
    {
     "name": "stdout",
     "output_type": "stream",
     "text": [
      "Randomly initialized training sparse matrix\n",
      "[[0.5488135  0.71518937 0.60276338 0.54488318 0.        ]\n",
      " [0.64589411 0.         0.891773   0.96366276 0.        ]\n",
      " [0.79172504 0.52889492 0.56804456 0.92559664 0.        ]\n",
      " [0.         0.         0.83261985 0.77815675 0.87001215]\n",
      " [0.97861834 0.79915856 0.         0.78052918 0.        ]]\n",
      "Randomly initialized test sparse matrix\n",
      "[[0.63992102 0.14335329 0.94466892 0.52184832 0.        ]\n",
      " [0.26455561 0.         0.45615033 0.56843395 0.        ]\n",
      " [0.6176355  0.61209572 0.616934   0.94374808 0.        ]\n",
      " [0.         0.         0.6976312  0.06022547 0.66676672]\n",
      " [0.67063787 0.21038256 0.         0.31542835 0.        ]]\n"
     ]
    }
   ],
   "source": [
    "import lowrank\n",
    "import numpy as np\n",
    "\n",
    "np.random.seed(0)\n",
    "rand_training_mat, rand_test_mat= np.random.rand(5, 5), np.random.rand(5, 5)\n",
    "rand_training_mat[rand_training_mat < 0.50] = 0 \n",
    "rand_test_mat[rand_training_mat == 0] = 0\n",
    "\n",
    "print 'Randomly initialized training sparse matrix'\n",
    "print rand_training_mat\n",
    "print 'Randomly initialized test sparse matrix'\n",
    "print rand_test_mat"
   ]
  },
  {
   "cell_type": "code",
   "execution_count": 2,
   "metadata": {},
   "outputs": [
    {
     "name": "stdout",
     "output_type": "stream",
     "text": [
      "Factorizer is instantiated with U: (5, 3) and M: (5, 3)\n"
     ]
    }
   ],
   "source": [
    "factorizer = lowrank.Factorizer(rand_training_mat, rand_test_mat, feature_dim=3)"
   ]
  },
  {
   "cell_type": "code",
   "execution_count": 8,
   "metadata": {},
   "outputs": [
    {
     "name": "stdout",
     "output_type": "stream",
     "text": [
      "Matrix discrepancy between analytical gradients and numerical gradients\n",
      "[[ 0.  0.  0.]\n",
      " [ 0. -0. -0.]\n",
      " [-0.  0.  0.]\n",
      " [ 0.  0. -0.]\n",
      " [-0. -0. -0.]]\n",
      "[[ 0. -0. -0.]\n",
      " [ 0. -0.  0.]\n",
      " [ 0. -0. -0.]\n",
      " [-0.  0. -0.]\n",
      " [ 0. -0. -0.]]\n"
     ]
    }
   ],
   "source": [
    "grad_u, grad_m = factorizer.gradients()\n",
    "num_grad_u, num_grad_m = factorizer.num_gradients()\n",
    "\n",
    "print 'Matrix discrepancy between analytical gradients and numerical gradients'\n",
    "print np.matrix.round(grad_u - num_grad_u, decimals=10)\n",
    "print np.matrix.round(grad_m - num_grad_m, decimals=10)"
   ]
  },
  {
   "cell_type": "markdown",
   "metadata": {},
   "source": [
    "## Real Data"
   ]
  },
  {
   "cell_type": "code",
   "execution_count": 9,
   "metadata": {},
   "outputs": [
    {
     "name": "stdout",
     "output_type": "stream",
     "text": [
      "CSV data are loaded with 44229 training samples and 5065 test samples from 79 users on 9125 movies\n"
     ]
    }
   ],
   "source": [
    "DATA_DIR = 'datasets/100k/'\n",
    "converter = lowrank.MatrixConverter(movies_filepath=DATA_DIR + 'movies.csv',\n",
    "                                    ratings_filepath=DATA_DIR + 'ratings.csv')\n",
    "training_rating_mat, test_rating_mat = converter.get_rating_matrices()"
   ]
  },
  {
   "cell_type": "code",
   "execution_count": null,
   "metadata": {},
   "outputs": [],
   "source": []
  }
 ],
 "metadata": {
  "kernelspec": {
   "display_name": "Python 2",
   "language": "python",
   "name": "python2"
  },
  "language_info": {
   "codemirror_mode": {
    "name": "ipython",
    "version": 2
   },
   "file_extension": ".py",
   "mimetype": "text/x-python",
   "name": "python",
   "nbconvert_exporter": "python",
   "pygments_lexer": "ipython2",
   "version": "2.7.10"
  }
 },
 "nbformat": 4,
 "nbformat_minor": 2
}
