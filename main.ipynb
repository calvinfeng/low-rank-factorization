{
 "cells": [
  {
   "cell_type": "markdown",
   "metadata": {},
   "source": [
    "# Low Rank Factorization"
   ]
  },
  {
   "cell_type": "markdown",
   "metadata": {},
   "source": [
    "## Gradient Check\n",
    "Let's confirm that gradients are computed correctly first."
   ]
  },
  {
   "cell_type": "code",
   "execution_count": 1,
   "metadata": {},
   "outputs": [
    {
     "name": "stdout",
     "output_type": "stream",
     "text": [
      "Randomly initialized training sparse matrix\n",
      "[[0.5488135  0.71518937 0.60276338 0.54488318 0.        ]\n",
      " [0.64589411 0.         0.891773   0.96366276 0.        ]\n",
      " [0.79172504 0.52889492 0.56804456 0.92559664 0.        ]\n",
      " [0.         0.         0.83261985 0.77815675 0.87001215]\n",
      " [0.97861834 0.79915856 0.         0.78052918 0.        ]]\n",
      "Randomly initialized test sparse matrix\n",
      "[[0.63992102 0.14335329 0.94466892 0.52184832 0.        ]\n",
      " [0.26455561 0.         0.45615033 0.56843395 0.        ]\n",
      " [0.6176355  0.61209572 0.616934   0.94374808 0.        ]\n",
      " [0.         0.         0.6976312  0.06022547 0.66676672]\n",
      " [0.67063787 0.21038256 0.         0.31542835 0.        ]]\n"
     ]
    }
   ],
   "source": [
    "import lowrank\n",
    "import numpy as np\n",
    "\n",
    "np.random.seed(0)\n",
    "rand_training_mat, rand_test_mat= np.random.rand(5, 5), np.random.rand(5, 5)\n",
    "rand_training_mat[rand_training_mat < 0.50] = 0 \n",
    "rand_test_mat[rand_training_mat == 0] = 0\n",
    "\n",
    "print 'Randomly initialized training sparse matrix'\n",
    "print rand_training_mat\n",
    "print 'Randomly initialized test sparse matrix'\n",
    "print rand_test_mat"
   ]
  },
  {
   "cell_type": "code",
   "execution_count": 2,
   "metadata": {},
   "outputs": [
    {
     "name": "stdout",
     "output_type": "stream",
     "text": [
      "Factorizer is instantiated with U: (5, 3) and M: (5, 3)\n"
     ]
    }
   ],
   "source": [
    "factorizer = lowrank.Factorizer(rand_training_mat, rand_test_mat, feature_dim=3)"
   ]
  },
  {
   "cell_type": "code",
   "execution_count": 3,
   "metadata": {},
   "outputs": [
    {
     "name": "stdout",
     "output_type": "stream",
     "text": [
      "Matrix discrepancy between analytical gradients and numerical gradients\n",
      "[[ 1.14026313  0.85186867  1.22992644]\n",
      " [-1.02631043 -0.90818969 -0.60491458]\n",
      " [ 0.21043364  0.05294658  0.53408938]\n",
      " [-0.74027499 -0.73757579 -0.55106209]\n",
      " [-0.43279507 -0.50935008 -0.16784554]]\n",
      "[[-0.56686795 -0.19530126 -0.20936388]\n",
      " [ 0.73540117  0.45773917  0.98451371]\n",
      " [ 0.39193428  0.17854584  0.66514679]\n",
      " [-0.47354746 -0.29589877 -0.21148896]\n",
      " [-0.19076224 -0.124068   -0.08614241]]\n"
     ]
    }
   ],
   "source": [
    "grad_u, grad_m = factorizer.gradients()\n",
    "num_grad_u, num_grad_m = factorizer.num_gradients()\n",
    "\n",
    "print 'Matrix discrepancy between analytical gradients and numerical gradients'\n",
    "print np.matrix.round(grad_u - num_grad_u, decimals=10)\n",
    "print np.matrix.round(grad_m - num_grad_m, decimals=10)"
   ]
  },
  {
   "cell_type": "markdown",
   "metadata": {},
   "source": [
    "## Real Data"
   ]
  },
  {
   "cell_type": "code",
   "execution_count": 4,
   "metadata": {},
   "outputs": [
    {
     "name": "stdout",
     "output_type": "stream",
     "text": [
      "CSV data are loaded with 44229 training samples and 5065 test samples from 79 users on 9125 movies\n",
      "Factorizer is instantiated with U: (79, 3) and M: (9125, 3)\n"
     ]
    }
   ],
   "source": [
    "%matplotlib inline\n",
    "import matplotlib.pyplot as plt\n",
    "\n",
    "\n",
    "DATA_DIR = 'datasets/100k/'\n",
    "converter = lowrank.MatrixConverter(movies_filepath=DATA_DIR + 'movies.csv',\n",
    "                                    ratings_filepath=DATA_DIR + 'ratings.csv')\n",
    "training_rating_mat, test_rating_mat = converter.get_rating_matrices()\n",
    "factorizer = lowrank.Factorizer(training_rating_mat, test_rating_mat, feature_dim=3)"
   ]
  },
  {
   "cell_type": "code",
   "execution_count": 5,
   "metadata": {},
   "outputs": [
    {
     "data": {
      "image/png": "[encoded data removed]",
      "text/plain": [
       "<matplotlib.figure.Figure at 0x7fe1bc57e390>"
      ]
     },
     "metadata": {},
     "output_type": "display_data"
    }
   ],
   "source": [
    "benchmarks = factorizer.train()\n",
    "steps = [bm[0] for bm in benchmarks]\n",
    "losses = [bm[1] for bm in benchmarks]\n",
    "rmses = [bm[2] for bm in benchmarks]\n",
    "\n",
    "plt.plot(steps, losses)\n",
    "plt.plot(steps, rmses)\n",
    "plt.show()"
   ]
  },
  {
   "cell_type": "code",
   "execution_count": null,
   "metadata": {},
   "outputs": [],
   "source": []
  }
 ],
 "metadata": {
  "kernelspec": {
   "display_name": "Python 2",
   "language": "python",
   "name": "python2"
  },
  "language_info": {
   "codemirror_mode": {
    "name": "ipython",
    "version": 2
   },
   "file_extension": ".py",
   "mimetype": "text/x-python",
   "name": "python",
   "nbconvert_exporter": "python",
   "pygments_lexer": "ipython2",
   "version": "2.7.6"
  }
 },
 "nbformat": 4,
 "nbformat_minor": 2
}
