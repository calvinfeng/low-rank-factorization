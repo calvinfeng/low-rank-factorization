{
 "cells": [
  {
   "cell_type": "markdown",
   "metadata": {},
   "source": [
    "# Low Rank Factorization"
   ]
  },
  {
   "cell_type": "markdown",
   "metadata": {},
   "source": [
    "## Gradient Check\n",
    "Let's confirm that gradients are computed correctly first."
   ]
  },
  {
   "cell_type": "code",
   "execution_count": 1,
   "metadata": {},
   "outputs": [
    {
     "name": "stdout",
     "output_type": "stream",
     "text": [
      "Randomly initialized training sparse matrix\n",
      "[[0.5488135  0.71518937 0.60276338 0.54488318 0.        ]\n",
      " [0.64589411 0.         0.891773   0.         0.        ]\n",
      " [0.79172504 0.52889492 0.56804456 0.         0.        ]\n",
      " [0.         0.         0.83261985 0.77815675 0.87001215]\n",
      " [0.         0.79915856 0.         0.78052918 0.        ]]\n",
      "Randomly initialized test sparse matrix\n",
      "[[0.         0.         0.         0.         0.        ]\n",
      " [0.         0.         0.         0.96366276 0.        ]\n",
      " [0.         0.         0.         0.92559664 0.        ]\n",
      " [0.         0.         0.         0.         0.        ]\n",
      " [0.97861834 0.         0.         0.         0.        ]]\n",
      "Factorizer is instantiated with U: (5, 3) and M: (5, 3)\n"
     ]
    }
   ],
   "source": [
    "import lowrank\n",
    "import numpy as np\n",
    "\n",
    "np.random.seed(0)\n",
    "rand_training_mat = np.random.rand(5, 5)\n",
    "\n",
    "# Randomly remove certain values to make the matrix sparse\n",
    "rand_training_mat[rand_training_mat < 0.50] = 0 \n",
    "\n",
    "# Pick out some set of values from the training set to be test set and then remove those values from training set\n",
    "rand_test_mat = np.copy(rand_training_mat)\n",
    "rand_test_mat[rand_training_mat < 0.90] = 0 \n",
    "rand_training_mat[rand_test_mat != 0] = 0\n",
    "\n",
    "print 'Randomly initialized training sparse matrix'\n",
    "print rand_training_mat\n",
    "\n",
    "print 'Randomly initialized test sparse matrix'\n",
    "print rand_test_mat\n",
    "\n",
    "factorizer = lowrank.Factorizer(rand_training_mat, rand_test_mat, feature_dim=3)"
   ]
  },
  {
   "cell_type": "code",
   "execution_count": 2,
   "metadata": {},
   "outputs": [
    {
     "name": "stdout",
     "output_type": "stream",
     "text": [
      "Matrix discrepancy between analytical gradients and numerical gradients\n",
      "[[ 0. -0.  0.]\n",
      " [ 0. -0.  0.]\n",
      " [-0. -0. -0.]\n",
      " [-0. -0.  0.]\n",
      " [ 0.  0.  0.]]\n",
      "[[-0.  0. -0.]\n",
      " [ 0. -0.  0.]\n",
      " [ 0. -0. -0.]\n",
      " [-0. -0. -0.]\n",
      " [-0. -0.  0.]]\n"
     ]
    }
   ],
   "source": [
    "grad_u, grad_m = factorizer.gradients()\n",
    "num_grad_u, num_grad_m = factorizer.num_gradients()\n",
    "\n",
    "print 'Matrix discrepancy between analytical gradients and numerical gradients'\n",
    "print np.matrix.round(grad_u - num_grad_u, decimals=10)\n",
    "print np.matrix.round(grad_m - num_grad_m, decimals=10)"
   ]
  },
  {
   "cell_type": "markdown",
   "metadata": {},
   "source": [
    "## Real Data"
   ]
  },
  {
   "cell_type": "code",
   "execution_count": 10,
   "metadata": {},
   "outputs": [
    {
     "name": "stdout",
     "output_type": "stream",
     "text": [
      "CSV data are loaded with 44229 training samples and 5065 test samples from 79 users on 9125 movies\n",
      "Factorizer is instantiated with U: (79, 10) and M: (9125, 10)\n"
     ]
    }
   ],
   "source": [
    "%matplotlib inline\n",
    "import matplotlib.pyplot as plt\n",
    "\n",
    "\n",
    "DATA_DIR = 'datasets/100k/'\n",
    "converter = lowrank.MatrixConverter(movies_filepath=DATA_DIR + 'movies.csv',\n",
    "                                    ratings_filepath=DATA_DIR + 'ratings.csv')\n",
    "training_rating_mat, test_rating_mat = converter.get_rating_matrices()\n",
    "factorizer = lowrank.Factorizer(training_rating_mat, test_rating_mat, feature_dim=10, reg=0.05)"
   ]
  },
  {
   "cell_type": "code",
   "execution_count": 11,
   "metadata": {},
   "outputs": [
    {
     "name": "stdout",
     "output_type": "stream",
     "text": [
      "☑ training: |████████████████████| 100%- current cost: 16262.495841419233\n",
      "\n"
     ]
    },
    {
     "data": {
      "image/png": "[encoded data removed]",
      "text/plain": [
       "<matplotlib.figure.Figure at 0x7fe926b73fd0>"
      ]
     },
     "metadata": {},
     "output_type": "display_data"
    }
   ],
   "source": [
    "benchmarks = factorizer.train(steps=400, learning_rate=1e-4)\n",
    "steps = [bm[0] for bm in benchmarks]\n",
    "losses = [bm[1] for bm in benchmarks]\n",
    "rmses = [bm[2] for bm in benchmarks]\n",
    "\n",
    "plt.subplot(211)\n",
    "plt.plot(steps, losses)\n",
    "plt.subplot(212)\n",
    "plt.plot(steps, rmses)\n",
    "plt.show()"
   ]
  },
  {
   "cell_type": "code",
   "execution_count": 5,
   "metadata": {},
   "outputs": [
    {
     "data": {
      "text/plain": [
       "[1.5167161497579833,\n",
       " 1.1793469908050143,\n",
       " 1.1265508432103635,\n",
       " 1.0989326961054156,\n",
       " 1.0783288718223458,\n",
       " 1.0614945278059513,\n",
       " 1.047360708011663,\n",
       " 1.0353330195182022,\n",
       " 1.0249938573947,\n",
       " 1.0160284173126306,\n",
       " 1.0081937004424086,\n",
       " 1.00129959725007,\n",
       " 0.9951956602115262,\n",
       " 0.9897615150938428,\n",
       " 0.9848998272607943,\n",
       " 0.9805310997284341,\n",
       " 0.9765897923557533,\n",
       " 0.9730213989600489,\n",
       " 0.9697802237965913,\n",
       " 0.9668276728671797,\n",
       " 0.9641309276832178,\n",
       " 0.9616619058653335,\n",
       " 0.9593964389501871,\n",
       " 0.9573136162542667,\n",
       " 0.9553952568767703,\n",
       " 0.9536254814745722,\n",
       " 0.9519903623938079,\n",
       " 0.9504776358463113,\n",
       " 0.9490764635987808,\n",
       " 0.9477772344658617,\n",
       " 0.9465713980254032,\n",
       " 0.9454513245896262,\n",
       " 0.9444101867031967,\n",
       " 0.9434418583936519,\n",
       " 0.942540829141775,\n",
       " 0.9417021301204835,\n",
       " 0.9409212707087464,\n",
       " 0.9401941836504197,\n",
       " 0.9395171775179284,\n",
       " 0.9388868953737192,\n",
       " 0.9383002787103526]"
      ]
     },
     "execution_count": 5,
     "metadata": {},
     "output_type": "execute_result"
    }
   ],
   "source": [
    "rmses"
   ]
  }
 ],
 "metadata": {
  "kernelspec": {
   "display_name": "Python 2",
   "language": "python",
   "name": "python2"
  },
  "language_info": {
   "codemirror_mode": {
    "name": "ipython",
    "version": 2
   },
   "file_extension": ".py",
   "mimetype": "text/x-python",
   "name": "python",
   "nbconvert_exporter": "python",
   "pygments_lexer": "ipython2",
   "version": "2.7.6"
  }
 },
 "nbformat": 4,
 "nbformat_minor": 2
}
